{
 "cells": [
  {
   "cell_type": "markdown",
   "metadata": {},
   "source": [
    "# Resnet 152"
   ]
  },
  {
   "cell_type": "code",
   "execution_count": 1,
   "metadata": {},
   "outputs": [],
   "source": [
    "import numpy as np\n",
    "import tensorflow as tf\n",
    "import os\n",
    "from tensorflow import keras\n",
    "\n",
    "# 랜덤시드 고정시키기\n",
    "np.random.seed(3)\n",
    "\n",
    "imgSize = 400\n",
    "batch=8"
   ]
  },
  {
   "cell_type": "code",
   "execution_count": 2,
   "metadata": {},
   "outputs": [
    {
     "data": {
      "text/plain": [
       "['/device:GPU:0', '/device:GPU:1']"
      ]
     },
     "execution_count": 2,
     "metadata": {},
     "output_type": "execute_result"
    }
   ],
   "source": [
    "from tensorflow.python.client import device_lib\n",
    "def get_available_gpus():\n",
    "    local_device_protos = device_lib.list_local_devices()\n",
    "    return [x.name for x in local_device_protos if x.device_type == 'GPU']\n",
    "\n",
    "get_available_gpus()\n",
    "\n"
   ]
  },
  {
   "cell_type": "code",
   "execution_count": 3,
   "metadata": {
    "scrolled": true
   },
   "outputs": [
    {
     "name": "stdout",
     "output_type": "stream",
     "text": [
      "Found 349 images belonging to 4 classes.\n",
      "Found 88 images belonging to 4 classes.\n",
      "4\n"
     ]
    }
   ],
   "source": [
    "from tensorflow.keras.preprocessing.image import ImageDataGenerator\n",
    "\n",
    "\n",
    "eye_folder = \"/data1/train_data/kwuniv/skin/3rd/erythema/split\"\n",
    "\n",
    "# 데이터셋 불러오기\n",
    "# validation_split=0.25 을 하면 training 과 validation의 subset이 자동으로 구성됨\n",
    "\n",
    "train_datagen = ImageDataGenerator(\n",
    "#    featurewise_center=True,\n",
    "#    featurewise_std_normalization=True,\n",
    "    zoom_range=0.2,\n",
    "    channel_shift_range=0.1,\n",
    "    rotation_range=20,\n",
    "    width_shift_range=0.2,\n",
    "    height_shift_range=0.2,\n",
    "    horizontal_flip=True,\n",
    "    rescale=1./255, \n",
    ")\n",
    "\n",
    "train_generator = train_datagen.flow_from_directory(\n",
    "        eye_folder + \"/train\",\n",
    "        target_size=(imgSize, imgSize),\n",
    "        batch_size=batch,\n",
    "        interpolation = 'box',\n",
    "        shuffle = True,\n",
    ")\n",
    "\n",
    "test_datagen = ImageDataGenerator(\n",
    "    rescale=1./255, \n",
    ")\n",
    "\n",
    "test_generator = test_datagen.flow_from_directory(\n",
    "        eye_folder + \"/val\",\n",
    "        target_size=(imgSize, imgSize),\n",
    "        batch_size=batch,\n",
    "        shuffle = False,\n",
    ")\n",
    "\n",
    "print(len(test_generator.class_indices))\n"
   ]
  },
  {
   "cell_type": "code",
   "execution_count": 4,
   "metadata": {},
   "outputs": [],
   "source": [
    "from tensorflow.keras.models import Sequential\n",
    "from tensorflow.keras.layers import Dense, Input, Activation, Flatten, BatchNormalization\n",
    "from tensorflow.keras.layers import Conv2D, MaxPooling2D\n",
    "from tensorflow.keras.applications.resnet import ResNet152\n",
    "from tensorflow.keras.applications.resnet_v2 import ResNet50V2, ResNet152V2\n",
    "\n",
    "import tensorflow as tf\n",
    "\n",
    "gpus = tf.config.experimental.list_physical_devices('GPU')\n",
    "tf.config.experimental.set_visible_devices(gpus[0], 'GPU')"
   ]
  },
  {
   "cell_type": "markdown",
   "metadata": {},
   "source": [
    "# 모델 구성하기\n",
    "\n",
    "https://keras.io/ko/applications/#resnet\n",
    "\n",
    "```\n",
    "keras.applications.resnet.ResNet152(\n",
    "    include_top=True, weights='imagenet', input_tensor=None, input_shape=None, pooling=None, classes=1000\n",
    ")\n",
    "```\n",
    "\n",
    "광운대 생성 param\n",
    "```\n",
    "ResNet152V2(include_top=False, weights='imagenet', input_tensor=None, input_shape=(224, 224, 3),\n",
    "           pooling='avg', backend=keras.backend, layers=keras.layers, models=keras.models,\n",
    "           utils=keras.utils)\n",
    "```\n",
    "\n",
    "Adma\n",
    "```\n",
    "tf.keras.optimizers.Adam(\n",
    "    learning_rate=0.001, beta_1=0.9, beta_2=0.999, epsilon=1e-07, amsgrad=False,\n",
    "    name='Adam', **kwargs\n",
    ")\n",
    "```"
   ]
  },
  {
   "cell_type": "code",
   "execution_count": 5,
   "metadata": {
    "scrolled": true
   },
   "outputs": [
    {
     "name": "stdout",
     "output_type": "stream",
     "text": [
      "Model: \"sequential\"\n",
      "_________________________________________________________________\n",
      "Layer (type)                 Output Shape              Param #   \n",
      "=================================================================\n",
      "resnet152v2 (Functional)     (None, 2048)              58331648  \n",
      "_________________________________________________________________\n",
      "dense (Dense)                (None, 4)                 8196      \n",
      "=================================================================\n",
      "Total params: 58,339,844\n",
      "Trainable params: 58,196,100\n",
      "Non-trainable params: 143,744\n",
      "_________________________________________________________________\n"
     ]
    }
   ],
   "source": [
    "# 위에 설정\n",
    "# gpus = tf.config.experimental.list_physical_devices('GPU')\n",
    "# tf.config.experimental.set_visible_devices(gpus[0], 'GPU')\n",
    "# , \"GPU:0\" v100 좋은거\n",
    "# , \"GPU:1\" 1080 덜 좋은거\n",
    "\n",
    "model = Sequential()\n",
    "\n",
    "model.add(ResNet152V2(weights=\"imagenet\", include_top=False, pooling='avg', input_shape=(imgSize, imgSize, 3), classes=len(test_generator.class_indices) ))\n",
    "\n",
    "# model.add(Dense(2048, activation='relu'))\n",
    "# model.add(Dense(128, activation='relu'))\n",
    "# model.add(BatchNormalization())\n",
    "model.add(Dense(len(test_generator.class_indices), activation='softmax'))\n",
    "\n",
    "model.summary()\n",
    "\n",
    "# learning_rate 기본 0.001\n",
    "# opt = tf.keras.optimizers.Adam(learning_rate=0.001)\n",
    "# opt = tf.keras.optimizers.SGD(learning_rate = 0.003, decay = 1e-5, momentum = 0.9, nesterov = True)\n",
    "opt = tf.keras.optimizers.SGD(learning_rate = 0.001, decay = 1e-5, momentum = 0.999, nesterov = True)\n",
    "\n",
    "loss = tf.keras.losses.CategoricalCrossentropy(label_smoothing=.1)\n",
    "\n",
    "# 모델 컴파일\n",
    "model.compile(loss=loss, optimizer=opt, metrics=['accuracy'])"
   ]
  },
  {
   "cell_type": "code",
   "execution_count": 6,
   "metadata": {
    "scrolled": true
   },
   "outputs": [],
   "source": [
    "# # model = tf.keras.models.load_model('/data2/2.ai/eyes/resnet152/model/20200722_115300_resnet152v2_400_False_SGD_400_jh/model-015-0.996578-0.834734.h5',custom_objects={'SeqSelfAttention':SeqSelfAttention})\n",
    "\n",
    "modelname = model.layers[0].name\n",
    "# opt = model.optimizer\n"
   ]
  },
  {
   "cell_type": "code",
   "execution_count": 7,
   "metadata": {},
   "outputs": [],
   "source": [
    "from tensorflow.keras.callbacks import TensorBoard\n",
    "from tensorflow.keras.callbacks import ModelCheckpoint\n",
    "from tensorflow.keras.callbacks import EarlyStopping\n",
    "\n",
    "from datetime import datetime\n",
    "import json\n",
    "\n",
    "# today = datetime.now().strftime(\"%Y%m%d_%H%M%S\") + \"_\" + type(opt).__name__ + \"_\" + \"pftest\"\n",
    "today = datetime.now().strftime(\"%Y%m%d_%H%M%S\")\n",
    "today = today + \"_\" + modelname\n",
    "today = today + \"_\" + str(imgSize)\n",
    "today = today + \"_\" + str(model.layers[0].weights == None)\n",
    "today = today + \"_\" + type(opt).__name__\n",
    "today = today + \"_skin\"\n",
    "\n",
    "tb_hist = TensorBoard(log_dir='./graph/' + today, histogram_freq=1)\n",
    "\n",
    "os.mkdir('./model/' + today)\n",
    "check_point = ModelCheckpoint('./model/' + today + '/model-{epoch:03d}-{accuracy:03f}-{val_accuracy:03f}.h5', verbose=1,\n",
    "                                      monitor='val_accuracy', save_best_only=True, mode='auto')\n",
    "earlystop = EarlyStopping(monitor='val_loss', patience=10, verbose=0, mode='auto')\n",
    "\n",
    "\n",
    "train_augs_file = open('./model/' + today + \"/augs.txt\", \"w\")\n",
    "n = train_augs_file.write(json.dumps(train_datagen.__dict__, indent=4, sort_keys=True))\n",
    "train_augs_file.close()\n",
    "\n",
    "# class_weight = {0:0.14, 1:0.89, 2:0.97}"
   ]
  },
  {
   "cell_type": "markdown",
   "metadata": {},
   "source": [
    "20200606_232548 : kw eye dataset, weight 사용 안함\n",
    "20200607_123851_SGD : 이미지에 점찍어서 분류해보기"
   ]
  },
  {
   "cell_type": "code",
   "execution_count": 14,
   "metadata": {
    "scrolled": false
   },
   "outputs": [
    {
     "name": "stdout",
     "output_type": "stream",
     "text": [
      "WARNING:tensorflow:Automatic model reloading for interrupted job was removed from the `ModelCheckpoint` callback in multi-worker mode, please use the `keras.callbacks.experimental.BackupAndRestore` callback instead. See this tutorial for details: https://www.tensorflow.org/tutorials/distribute/multi_worker_with_keras#backupandrestore_callback.\n",
      "Epoch 1/60\n",
      " 2/44 [>.............................] - ETA: 44s - loss: 0.7569 - accuracy: 0.8125WARNING:tensorflow:Callbacks method `on_train_batch_end` is slow compared to the batch time (batch time: 0.1844s vs `on_train_batch_end` time: 1.0044s). Check your callbacks.\n",
      "44/44 [==============================] - ETA: 0s - loss: 0.7876 - accuracy: 0.7393\n",
      "Epoch 00001: val_accuracy improved from 0.82955 to 0.84091, saving model to ./model/20200804_170450_resnet152v2_400_False_SGD_skin/model-001-0.739255-0.840909.h5\n",
      "44/44 [==============================] - 18s 417ms/step - loss: 0.7876 - accuracy: 0.7393 - val_loss: 0.6915 - val_accuracy: 0.8409\n",
      "Epoch 2/60\n",
      "44/44 [==============================] - ETA: 0s - loss: 0.8117 - accuracy: 0.7335\n",
      "Epoch 00002: val_accuracy did not improve from 0.84091\n",
      "44/44 [==============================] - 16s 357ms/step - loss: 0.8117 - accuracy: 0.7335 - val_loss: 0.7125 - val_accuracy: 0.8068\n",
      "Epoch 3/60\n",
      "44/44 [==============================] - ETA: 0s - loss: 0.7526 - accuracy: 0.7564\n",
      "Epoch 00003: val_accuracy did not improve from 0.84091\n",
      "44/44 [==============================] - 16s 361ms/step - loss: 0.7526 - accuracy: 0.7564 - val_loss: 0.7525 - val_accuracy: 0.7841\n",
      "Epoch 4/60\n",
      "44/44 [==============================] - ETA: 0s - loss: 0.7674 - accuracy: 0.7593\n",
      "Epoch 00004: val_accuracy did not improve from 0.84091\n",
      "44/44 [==============================] - 16s 355ms/step - loss: 0.7674 - accuracy: 0.7593 - val_loss: 0.8061 - val_accuracy: 0.7727\n",
      "Epoch 5/60\n",
      "44/44 [==============================] - ETA: 0s - loss: 0.7639 - accuracy: 0.7822\n",
      "Epoch 00005: val_accuracy did not improve from 0.84091\n",
      "44/44 [==============================] - 16s 353ms/step - loss: 0.7639 - accuracy: 0.7822 - val_loss: 0.8578 - val_accuracy: 0.7273\n",
      "Epoch 6/60\n",
      "44/44 [==============================] - ETA: 0s - loss: 0.7845 - accuracy: 0.7708\n",
      "Epoch 00006: val_accuracy did not improve from 0.84091\n",
      "44/44 [==============================] - 16s 358ms/step - loss: 0.7845 - accuracy: 0.7708 - val_loss: 0.7703 - val_accuracy: 0.7955\n",
      "Epoch 7/60\n",
      "44/44 [==============================] - ETA: 0s - loss: 0.7866 - accuracy: 0.7507\n",
      "Epoch 00007: val_accuracy did not improve from 0.84091\n",
      "44/44 [==============================] - 16s 363ms/step - loss: 0.7866 - accuracy: 0.7507 - val_loss: 0.7303 - val_accuracy: 0.7955\n",
      "Epoch 8/60\n",
      "44/44 [==============================] - ETA: 0s - loss: 0.7933 - accuracy: 0.7393\n",
      "Epoch 00008: val_accuracy did not improve from 0.84091\n",
      "44/44 [==============================] - 16s 361ms/step - loss: 0.7933 - accuracy: 0.7393 - val_loss: 0.8708 - val_accuracy: 0.7386\n",
      "Epoch 9/60\n",
      "44/44 [==============================] - ETA: 0s - loss: 0.8231 - accuracy: 0.7536\n",
      "Epoch 00009: val_accuracy did not improve from 0.84091\n",
      "44/44 [==============================] - 16s 374ms/step - loss: 0.8231 - accuracy: 0.7536 - val_loss: 0.8357 - val_accuracy: 0.7273\n",
      "Epoch 10/60\n",
      "44/44 [==============================] - ETA: 0s - loss: 0.7735 - accuracy: 0.7679\n",
      "Epoch 00010: val_accuracy did not improve from 0.84091\n",
      "44/44 [==============================] - 17s 390ms/step - loss: 0.7735 - accuracy: 0.7679 - val_loss: 0.7879 - val_accuracy: 0.7841\n",
      "Epoch 11/60\n",
      "44/44 [==============================] - ETA: 0s - loss: 0.7796 - accuracy: 0.7650\n",
      "Epoch 00011: val_accuracy did not improve from 0.84091\n",
      "44/44 [==============================] - 18s 404ms/step - loss: 0.7796 - accuracy: 0.7650 - val_loss: 0.8601 - val_accuracy: 0.7273\n",
      "Epoch 12/60\n",
      "44/44 [==============================] - ETA: 0s - loss: 0.8045 - accuracy: 0.7307\n",
      "Epoch 00012: val_accuracy did not improve from 0.84091\n",
      "44/44 [==============================] - 19s 430ms/step - loss: 0.8045 - accuracy: 0.7307 - val_loss: 0.6895 - val_accuracy: 0.8068\n",
      "Epoch 13/60\n",
      "44/44 [==============================] - ETA: 0s - loss: 0.7794 - accuracy: 0.7593\n",
      "Epoch 00013: val_accuracy did not improve from 0.84091\n",
      "44/44 [==============================] - 19s 442ms/step - loss: 0.7794 - accuracy: 0.7593 - val_loss: 1.0196 - val_accuracy: 0.6023\n",
      "Epoch 14/60\n",
      "44/44 [==============================] - ETA: 0s - loss: 0.7881 - accuracy: 0.7622\n",
      "Epoch 00014: val_accuracy did not improve from 0.84091\n",
      "44/44 [==============================] - 19s 438ms/step - loss: 0.7881 - accuracy: 0.7622 - val_loss: 0.7620 - val_accuracy: 0.7727\n",
      "Epoch 15/60\n",
      "44/44 [==============================] - ETA: 0s - loss: 0.7762 - accuracy: 0.7679\n",
      "Epoch 00015: val_accuracy did not improve from 0.84091\n",
      "44/44 [==============================] - 21s 468ms/step - loss: 0.7762 - accuracy: 0.7679 - val_loss: 0.8355 - val_accuracy: 0.7159\n",
      "Epoch 16/60\n",
      "44/44 [==============================] - ETA: 0s - loss: 0.7081 - accuracy: 0.7994\n",
      "Epoch 00016: val_accuracy did not improve from 0.84091\n",
      "44/44 [==============================] - 20s 460ms/step - loss: 0.7081 - accuracy: 0.7994 - val_loss: 0.7550 - val_accuracy: 0.7841\n",
      "Epoch 17/60\n",
      "44/44 [==============================] - ETA: 0s - loss: 0.7578 - accuracy: 0.7507\n",
      "Epoch 00017: val_accuracy did not improve from 0.84091\n",
      "44/44 [==============================] - 21s 483ms/step - loss: 0.7578 - accuracy: 0.7507 - val_loss: 0.6950 - val_accuracy: 0.7841\n",
      "Epoch 18/60\n",
      "44/44 [==============================] - ETA: 0s - loss: 0.7740 - accuracy: 0.7794\n",
      "Epoch 00018: val_accuracy did not improve from 0.84091\n",
      "44/44 [==============================] - 23s 522ms/step - loss: 0.7740 - accuracy: 0.7794 - val_loss: 0.7336 - val_accuracy: 0.7727\n",
      "Epoch 19/60\n",
      "44/44 [==============================] - ETA: 0s - loss: 0.7760 - accuracy: 0.7421\n",
      "Epoch 00019: val_accuracy did not improve from 0.84091\n",
      "44/44 [==============================] - 21s 487ms/step - loss: 0.7760 - accuracy: 0.7421 - val_loss: 0.7539 - val_accuracy: 0.7500\n",
      "Epoch 20/60\n",
      "44/44 [==============================] - ETA: 0s - loss: 0.7705 - accuracy: 0.7880\n",
      "Epoch 00020: val_accuracy did not improve from 0.84091\n",
      "44/44 [==============================] - 21s 485ms/step - loss: 0.7705 - accuracy: 0.7880 - val_loss: 0.7662 - val_accuracy: 0.8182\n",
      "Epoch 21/60\n",
      "26/44 [================>.............] - ETA: 7s - loss: 0.8063 - accuracy: 0.7356"
     ]
    },
    {
     "ename": "KeyboardInterrupt",
     "evalue": "",
     "output_type": "error",
     "traceback": [
      "\u001b[0;31m---------------------------------------------------------------------------\u001b[0m",
      "\u001b[0;31mKeyboardInterrupt\u001b[0m                         Traceback (most recent call last)",
      "\u001b[0;32m<ipython-input-14-938805e0f20d>\u001b[0m in \u001b[0;36m<module>\u001b[0;34m\u001b[0m\n\u001b[1;32m      5\u001b[0m     \u001b[0mvalidation_data\u001b[0m\u001b[0;34m=\u001b[0m\u001b[0mtest_generator\u001b[0m\u001b[0;34m,\u001b[0m\u001b[0;34m\u001b[0m\u001b[0;34m\u001b[0m\u001b[0m\n\u001b[1;32m      6\u001b[0m     \u001b[0mworkers\u001b[0m\u001b[0;34m=\u001b[0m\u001b[0;36m8\u001b[0m\u001b[0;34m,\u001b[0m\u001b[0;34m\u001b[0m\u001b[0;34m\u001b[0m\u001b[0m\n\u001b[0;32m----> 7\u001b[0;31m     \u001b[0mcallbacks\u001b[0m\u001b[0;34m=\u001b[0m\u001b[0;34m[\u001b[0m\u001b[0mtb_hist\u001b[0m\u001b[0;34m,\u001b[0m \u001b[0mcheck_point\u001b[0m\u001b[0;34m]\u001b[0m\u001b[0;34m,\u001b[0m \u001b[0;31m#, earlystop\u001b[0m\u001b[0;34m\u001b[0m\u001b[0;34m\u001b[0m\u001b[0m\n\u001b[0m\u001b[1;32m      8\u001b[0m \u001b[0;31m#     class_weight=class_weight\u001b[0m\u001b[0;34m\u001b[0m\u001b[0;34m\u001b[0m\u001b[0;34m\u001b[0m\u001b[0m\n\u001b[1;32m      9\u001b[0m )\n",
      "\u001b[0;32m~/.local/lib/python3.6/site-packages/tensorflow/python/keras/engine/training.py\u001b[0m in \u001b[0;36m_method_wrapper\u001b[0;34m(self, *args, **kwargs)\u001b[0m\n\u001b[1;32m    106\u001b[0m   \u001b[0;32mdef\u001b[0m \u001b[0m_method_wrapper\u001b[0m\u001b[0;34m(\u001b[0m\u001b[0mself\u001b[0m\u001b[0;34m,\u001b[0m \u001b[0;34m*\u001b[0m\u001b[0margs\u001b[0m\u001b[0;34m,\u001b[0m \u001b[0;34m**\u001b[0m\u001b[0mkwargs\u001b[0m\u001b[0;34m)\u001b[0m\u001b[0;34m:\u001b[0m\u001b[0;34m\u001b[0m\u001b[0;34m\u001b[0m\u001b[0m\n\u001b[1;32m    107\u001b[0m     \u001b[0;32mif\u001b[0m \u001b[0;32mnot\u001b[0m \u001b[0mself\u001b[0m\u001b[0;34m.\u001b[0m\u001b[0m_in_multi_worker_mode\u001b[0m\u001b[0;34m(\u001b[0m\u001b[0;34m)\u001b[0m\u001b[0;34m:\u001b[0m  \u001b[0;31m# pylint: disable=protected-access\u001b[0m\u001b[0;34m\u001b[0m\u001b[0;34m\u001b[0m\u001b[0m\n\u001b[0;32m--> 108\u001b[0;31m       \u001b[0;32mreturn\u001b[0m \u001b[0mmethod\u001b[0m\u001b[0;34m(\u001b[0m\u001b[0mself\u001b[0m\u001b[0;34m,\u001b[0m \u001b[0;34m*\u001b[0m\u001b[0margs\u001b[0m\u001b[0;34m,\u001b[0m \u001b[0;34m**\u001b[0m\u001b[0mkwargs\u001b[0m\u001b[0;34m)\u001b[0m\u001b[0;34m\u001b[0m\u001b[0;34m\u001b[0m\u001b[0m\n\u001b[0m\u001b[1;32m    109\u001b[0m \u001b[0;34m\u001b[0m\u001b[0m\n\u001b[1;32m    110\u001b[0m     \u001b[0;31m# Running inside `run_distribute_coordinator` already.\u001b[0m\u001b[0;34m\u001b[0m\u001b[0;34m\u001b[0m\u001b[0;34m\u001b[0m\u001b[0m\n",
      "\u001b[0;32m~/.local/lib/python3.6/site-packages/tensorflow/python/keras/engine/training.py\u001b[0m in \u001b[0;36mfit\u001b[0;34m(self, x, y, batch_size, epochs, verbose, callbacks, validation_split, validation_data, shuffle, class_weight, sample_weight, initial_epoch, steps_per_epoch, validation_steps, validation_batch_size, validation_freq, max_queue_size, workers, use_multiprocessing)\u001b[0m\n\u001b[1;32m   1100\u001b[0m                 _r=1):\n\u001b[1;32m   1101\u001b[0m               \u001b[0mcallbacks\u001b[0m\u001b[0;34m.\u001b[0m\u001b[0mon_train_batch_begin\u001b[0m\u001b[0;34m(\u001b[0m\u001b[0mstep\u001b[0m\u001b[0;34m)\u001b[0m\u001b[0;34m\u001b[0m\u001b[0;34m\u001b[0m\u001b[0m\n\u001b[0;32m-> 1102\u001b[0;31m               \u001b[0mtmp_logs\u001b[0m \u001b[0;34m=\u001b[0m \u001b[0mself\u001b[0m\u001b[0;34m.\u001b[0m\u001b[0mtrain_function\u001b[0m\u001b[0;34m(\u001b[0m\u001b[0miterator\u001b[0m\u001b[0;34m)\u001b[0m\u001b[0;34m\u001b[0m\u001b[0;34m\u001b[0m\u001b[0m\n\u001b[0m\u001b[1;32m   1103\u001b[0m               \u001b[0;32mif\u001b[0m \u001b[0mdata_handler\u001b[0m\u001b[0;34m.\u001b[0m\u001b[0mshould_sync\u001b[0m\u001b[0;34m:\u001b[0m\u001b[0;34m\u001b[0m\u001b[0;34m\u001b[0m\u001b[0m\n\u001b[1;32m   1104\u001b[0m                 \u001b[0mcontext\u001b[0m\u001b[0;34m.\u001b[0m\u001b[0masync_wait\u001b[0m\u001b[0;34m(\u001b[0m\u001b[0;34m)\u001b[0m\u001b[0;34m\u001b[0m\u001b[0;34m\u001b[0m\u001b[0m\n",
      "\u001b[0;32m~/.local/lib/python3.6/site-packages/tensorflow/python/eager/def_function.py\u001b[0m in \u001b[0;36m__call__\u001b[0;34m(self, *args, **kwds)\u001b[0m\n\u001b[1;32m    794\u001b[0m       \u001b[0;32melse\u001b[0m\u001b[0;34m:\u001b[0m\u001b[0;34m\u001b[0m\u001b[0;34m\u001b[0m\u001b[0m\n\u001b[1;32m    795\u001b[0m         \u001b[0mcompiler\u001b[0m \u001b[0;34m=\u001b[0m \u001b[0;34m\"nonXla\"\u001b[0m\u001b[0;34m\u001b[0m\u001b[0;34m\u001b[0m\u001b[0m\n\u001b[0;32m--> 796\u001b[0;31m         \u001b[0mresult\u001b[0m \u001b[0;34m=\u001b[0m \u001b[0mself\u001b[0m\u001b[0;34m.\u001b[0m\u001b[0m_call\u001b[0m\u001b[0;34m(\u001b[0m\u001b[0;34m*\u001b[0m\u001b[0margs\u001b[0m\u001b[0;34m,\u001b[0m \u001b[0;34m**\u001b[0m\u001b[0mkwds\u001b[0m\u001b[0;34m)\u001b[0m\u001b[0;34m\u001b[0m\u001b[0;34m\u001b[0m\u001b[0m\n\u001b[0m\u001b[1;32m    797\u001b[0m \u001b[0;34m\u001b[0m\u001b[0m\n\u001b[1;32m    798\u001b[0m       \u001b[0mnew_tracing_count\u001b[0m \u001b[0;34m=\u001b[0m \u001b[0mself\u001b[0m\u001b[0;34m.\u001b[0m\u001b[0m_get_tracing_count\u001b[0m\u001b[0;34m(\u001b[0m\u001b[0;34m)\u001b[0m\u001b[0;34m\u001b[0m\u001b[0;34m\u001b[0m\u001b[0m\n",
      "\u001b[0;32m~/.local/lib/python3.6/site-packages/tensorflow/python/eager/def_function.py\u001b[0m in \u001b[0;36m_call\u001b[0;34m(self, *args, **kwds)\u001b[0m\n\u001b[1;32m    821\u001b[0m       \u001b[0;31m# In this case we have created variables on the first call, so we run the\u001b[0m\u001b[0;34m\u001b[0m\u001b[0;34m\u001b[0m\u001b[0;34m\u001b[0m\u001b[0m\n\u001b[1;32m    822\u001b[0m       \u001b[0;31m# defunned version which is guaranteed to never create variables.\u001b[0m\u001b[0;34m\u001b[0m\u001b[0;34m\u001b[0m\u001b[0;34m\u001b[0m\u001b[0m\n\u001b[0;32m--> 823\u001b[0;31m       \u001b[0;32mreturn\u001b[0m \u001b[0mself\u001b[0m\u001b[0;34m.\u001b[0m\u001b[0m_stateless_fn\u001b[0m\u001b[0;34m(\u001b[0m\u001b[0;34m*\u001b[0m\u001b[0margs\u001b[0m\u001b[0;34m,\u001b[0m \u001b[0;34m**\u001b[0m\u001b[0mkwds\u001b[0m\u001b[0;34m)\u001b[0m  \u001b[0;31m# pylint: disable=not-callable\u001b[0m\u001b[0;34m\u001b[0m\u001b[0;34m\u001b[0m\u001b[0m\n\u001b[0m\u001b[1;32m    824\u001b[0m     \u001b[0;32melif\u001b[0m \u001b[0mself\u001b[0m\u001b[0;34m.\u001b[0m\u001b[0m_stateful_fn\u001b[0m \u001b[0;32mis\u001b[0m \u001b[0;32mnot\u001b[0m \u001b[0;32mNone\u001b[0m\u001b[0;34m:\u001b[0m\u001b[0;34m\u001b[0m\u001b[0;34m\u001b[0m\u001b[0m\n\u001b[1;32m    825\u001b[0m       \u001b[0;31m# Release the lock early so that multiple threads can perform the call\u001b[0m\u001b[0;34m\u001b[0m\u001b[0;34m\u001b[0m\u001b[0;34m\u001b[0m\u001b[0m\n",
      "\u001b[0;32m~/.local/lib/python3.6/site-packages/tensorflow/python/eager/function.py\u001b[0m in \u001b[0;36m__call__\u001b[0;34m(self, *args, **kwargs)\u001b[0m\n\u001b[1;32m   2920\u001b[0m     \u001b[0;32mwith\u001b[0m \u001b[0mself\u001b[0m\u001b[0;34m.\u001b[0m\u001b[0m_lock\u001b[0m\u001b[0;34m:\u001b[0m\u001b[0;34m\u001b[0m\u001b[0;34m\u001b[0m\u001b[0m\n\u001b[1;32m   2921\u001b[0m       \u001b[0mgraph_function\u001b[0m\u001b[0;34m,\u001b[0m \u001b[0margs\u001b[0m\u001b[0;34m,\u001b[0m \u001b[0mkwargs\u001b[0m \u001b[0;34m=\u001b[0m \u001b[0mself\u001b[0m\u001b[0;34m.\u001b[0m\u001b[0m_maybe_define_function\u001b[0m\u001b[0;34m(\u001b[0m\u001b[0margs\u001b[0m\u001b[0;34m,\u001b[0m \u001b[0mkwargs\u001b[0m\u001b[0;34m)\u001b[0m\u001b[0;34m\u001b[0m\u001b[0;34m\u001b[0m\u001b[0m\n\u001b[0;32m-> 2922\u001b[0;31m     \u001b[0;32mreturn\u001b[0m \u001b[0mgraph_function\u001b[0m\u001b[0;34m.\u001b[0m\u001b[0m_filtered_call\u001b[0m\u001b[0;34m(\u001b[0m\u001b[0margs\u001b[0m\u001b[0;34m,\u001b[0m \u001b[0mkwargs\u001b[0m\u001b[0;34m)\u001b[0m  \u001b[0;31m# pylint: disable=protected-access\u001b[0m\u001b[0;34m\u001b[0m\u001b[0;34m\u001b[0m\u001b[0m\n\u001b[0m\u001b[1;32m   2923\u001b[0m \u001b[0;34m\u001b[0m\u001b[0m\n\u001b[1;32m   2924\u001b[0m   \u001b[0;34m@\u001b[0m\u001b[0mproperty\u001b[0m\u001b[0;34m\u001b[0m\u001b[0;34m\u001b[0m\u001b[0m\n",
      "\u001b[0;32m~/.local/lib/python3.6/site-packages/tensorflow/python/eager/function.py\u001b[0m in \u001b[0;36m_filtered_call\u001b[0;34m(self, args, kwargs, cancellation_manager)\u001b[0m\n\u001b[1;32m   1856\u001b[0m                            resource_variable_ops.BaseResourceVariable))],\n\u001b[1;32m   1857\u001b[0m         \u001b[0mcaptured_inputs\u001b[0m\u001b[0;34m=\u001b[0m\u001b[0mself\u001b[0m\u001b[0;34m.\u001b[0m\u001b[0mcaptured_inputs\u001b[0m\u001b[0;34m,\u001b[0m\u001b[0;34m\u001b[0m\u001b[0;34m\u001b[0m\u001b[0m\n\u001b[0;32m-> 1858\u001b[0;31m         cancellation_manager=cancellation_manager)\n\u001b[0m\u001b[1;32m   1859\u001b[0m \u001b[0;34m\u001b[0m\u001b[0m\n\u001b[1;32m   1860\u001b[0m   \u001b[0;32mdef\u001b[0m \u001b[0m_call_flat\u001b[0m\u001b[0;34m(\u001b[0m\u001b[0mself\u001b[0m\u001b[0;34m,\u001b[0m \u001b[0margs\u001b[0m\u001b[0;34m,\u001b[0m \u001b[0mcaptured_inputs\u001b[0m\u001b[0;34m,\u001b[0m \u001b[0mcancellation_manager\u001b[0m\u001b[0;34m=\u001b[0m\u001b[0;32mNone\u001b[0m\u001b[0;34m)\u001b[0m\u001b[0;34m:\u001b[0m\u001b[0;34m\u001b[0m\u001b[0;34m\u001b[0m\u001b[0m\n",
      "\u001b[0;32m~/.local/lib/python3.6/site-packages/tensorflow/python/eager/function.py\u001b[0m in \u001b[0;36m_call_flat\u001b[0;34m(self, args, captured_inputs, cancellation_manager)\u001b[0m\n\u001b[1;32m   1932\u001b[0m       \u001b[0;31m# No tape is watching; skip to running the function.\u001b[0m\u001b[0;34m\u001b[0m\u001b[0;34m\u001b[0m\u001b[0;34m\u001b[0m\u001b[0m\n\u001b[1;32m   1933\u001b[0m       return self._build_call_outputs(self._inference_function.call(\n\u001b[0;32m-> 1934\u001b[0;31m           ctx, args, cancellation_manager=cancellation_manager))\n\u001b[0m\u001b[1;32m   1935\u001b[0m     forward_backward = self._select_forward_and_backward_functions(\n\u001b[1;32m   1936\u001b[0m         \u001b[0margs\u001b[0m\u001b[0;34m,\u001b[0m\u001b[0;34m\u001b[0m\u001b[0;34m\u001b[0m\u001b[0m\n",
      "\u001b[0;32m~/.local/lib/python3.6/site-packages/tensorflow/python/eager/function.py\u001b[0m in \u001b[0;36mcall\u001b[0;34m(self, ctx, args, cancellation_manager)\u001b[0m\n\u001b[1;32m    555\u001b[0m               \u001b[0minputs\u001b[0m\u001b[0;34m=\u001b[0m\u001b[0margs\u001b[0m\u001b[0;34m,\u001b[0m\u001b[0;34m\u001b[0m\u001b[0;34m\u001b[0m\u001b[0m\n\u001b[1;32m    556\u001b[0m               \u001b[0mattrs\u001b[0m\u001b[0;34m=\u001b[0m\u001b[0mattrs\u001b[0m\u001b[0;34m,\u001b[0m\u001b[0;34m\u001b[0m\u001b[0;34m\u001b[0m\u001b[0m\n\u001b[0;32m--> 557\u001b[0;31m               ctx=ctx)\n\u001b[0m\u001b[1;32m    558\u001b[0m         \u001b[0;32melse\u001b[0m\u001b[0;34m:\u001b[0m\u001b[0;34m\u001b[0m\u001b[0;34m\u001b[0m\u001b[0m\n\u001b[1;32m    559\u001b[0m           outputs = execute.execute_with_cancellation(\n",
      "\u001b[0;32m~/.local/lib/python3.6/site-packages/tensorflow/python/eager/execute.py\u001b[0m in \u001b[0;36mquick_execute\u001b[0;34m(op_name, num_outputs, inputs, attrs, ctx, name)\u001b[0m\n\u001b[1;32m     58\u001b[0m     \u001b[0mctx\u001b[0m\u001b[0;34m.\u001b[0m\u001b[0mensure_initialized\u001b[0m\u001b[0;34m(\u001b[0m\u001b[0;34m)\u001b[0m\u001b[0;34m\u001b[0m\u001b[0;34m\u001b[0m\u001b[0m\n\u001b[1;32m     59\u001b[0m     tensors = pywrap_tfe.TFE_Py_Execute(ctx._handle, device_name, op_name,\n\u001b[0;32m---> 60\u001b[0;31m                                         inputs, attrs, num_outputs)\n\u001b[0m\u001b[1;32m     61\u001b[0m   \u001b[0;32mexcept\u001b[0m \u001b[0mcore\u001b[0m\u001b[0;34m.\u001b[0m\u001b[0m_NotOkStatusException\u001b[0m \u001b[0;32mas\u001b[0m \u001b[0me\u001b[0m\u001b[0;34m:\u001b[0m\u001b[0;34m\u001b[0m\u001b[0;34m\u001b[0m\u001b[0m\n\u001b[1;32m     62\u001b[0m     \u001b[0;32mif\u001b[0m \u001b[0mname\u001b[0m \u001b[0;32mis\u001b[0m \u001b[0;32mnot\u001b[0m \u001b[0;32mNone\u001b[0m\u001b[0;34m:\u001b[0m\u001b[0;34m\u001b[0m\u001b[0;34m\u001b[0m\u001b[0m\n",
      "\u001b[0;31mKeyboardInterrupt\u001b[0m: "
     ]
    }
   ],
   "source": [
    "# 모델 학습시키기\n",
    "history = model.fit(\n",
    "    train_generator,\n",
    "    epochs=60,\n",
    "    validation_data=test_generator,\n",
    "    workers=8,\n",
    "    callbacks=[tb_hist, check_point], #, earlystop\n",
    "#     class_weight=class_weight\n",
    ")"
   ]
  },
  {
   "cell_type": "code",
   "execution_count": null,
   "metadata": {},
   "outputs": [],
   "source": [
    "# 모델 평가하기\n",
    "print(\"-- Evaluate --\")\n",
    "\n",
    "scores = model.evaluate_generator(\n",
    "            test_generator, \n",
    "            workers=38,\n",
    ")\n",
    "\n",
    "print(\"%s: %.2f%%\" %(model.metrics_names[1], scores[1]*100))\n"
   ]
  },
  {
   "cell_type": "code",
   "execution_count": 10,
   "metadata": {},
   "outputs": [
    {
     "data": {
      "image/png": "[encoded data removed]",
      "text/plain": [
       "<Figure size 432x288 with 1 Axes>"
      ]
     },
     "metadata": {
      "needs_background": "light"
     },
     "output_type": "display_data"
    },
    {
     "data": {
      "image/png": "[encoded data removed]",
      "text/plain": [
       "<Figure size 432x288 with 1 Axes>"
      ]
     },
     "metadata": {
      "needs_background": "light"
     },
     "output_type": "display_data"
    }
   ],
   "source": [
    "import matplotlib.pyplot as plt\n",
    "\n",
    "# 학습 정확성 값과 검증 정확성 값을 플롯팅 합니다. \n",
    "plt.plot(history.history['accuracy'])\n",
    "plt.plot(history.history['val_accuracy'])\n",
    "plt.title('Model accuracy')\n",
    "plt.ylabel('Accuracy')\n",
    "plt.xlabel('Epoch')\n",
    "plt.legend(['Train', 'Test'], loc='upper left')\n",
    "plt.show()\n",
    "\n",
    "# 학습 손실 값과 검증 손실 값을 플롯팅 합니다.\n",
    "plt.plot(history.history['loss'])\n",
    "plt.plot(history.history['val_loss'])\n",
    "plt.title('Model loss')\n",
    "plt.ylabel('Loss')\n",
    "plt.xlabel('Epoch')\n",
    "plt.legend(['Train', 'Test'], loc='upper left')\n",
    "plt.show()"
   ]
  },
  {
   "cell_type": "code",
   "execution_count": 11,
   "metadata": {
    "scrolled": true
   },
   "outputs": [
    {
     "name": "stdout",
     "output_type": "stream",
     "text": [
      "WARNING:tensorflow:From <ipython-input-11-7061610dda0a>:1: Sequential.predict_classes (from tensorflow.python.keras.engine.sequential) is deprecated and will be removed after 2021-01-01.\n",
      "Instructions for updating:\n",
      "Please use instead:* `np.argmax(model.predict(x), axis=-1)`,   if your model does multi-class classification   (e.g. if it uses a `softmax` last-layer activation).* `(model.predict(x) > 0.5).astype(\"int32\")`,   if your model does binary classification   (e.g. if it uses a `sigmoid` last-layer activation).\n",
      "----------------------------------------------------------------------------------------------------\n",
      "[0 0 0 0 0 0 0 1 0 0 0 1 0 0 0 0 0 0 0 0 0 1 1 1 1 0 0 0 1 1 1 1 1 1 1 1 1\n",
      " 1 1 1 1 1 1 0 1 1 1 1 1 1 1 0 1 1 0 1 1 1 1 1 1 2 3 1 1 2 2 1 1 2 2 1 1 2\n",
      " 1 1 2 2 2 2 2 2 3 3 3 1 3 3]\n",
      "----------------------------------------------------------------------------------------------------\n",
      "[0 0 0 0 0 0 0 0 0 0 0 0 0 0 0 0 0 0 0 0 0 1 1 1 1 1 1 1 1 1 1 1 1 1 1 1 1\n",
      " 1 1 1 1 1 1 1 1 1 1 1 1 1 1 1 1 1 1 1 1 1 1 1 1 2 2 2 2 2 2 2 2 2 2 2 2 2\n",
      " 2 2 2 2 2 2 2 2 3 3 3 3 3 3]\n",
      "{'0-0': 19, '0-1': 2, '1-1': 34, '1-0': 6, '2-2': 12, '2-3': 1, '2-1': 8, '3-3': 5, '3-1': 1}\n",
      "[('0-0', 19), ('0-1', 2), ('1-0', 6), ('1-1', 34), ('2-1', 8), ('2-2', 12), ('2-3', 1), ('3-1', 1), ('3-3', 5)]\n"
     ]
    }
   ],
   "source": [
    "predicts = model.predict_classes(test_generator)\n",
    "\n",
    "# for p in predicts:\n",
    "#     print(p)\n",
    "\n",
    "print(\"-\"*100)\n",
    "print(predicts)\n",
    "print(\"-\"*100)\n",
    "print(test_generator.labels)\n",
    "results = {}\n",
    "\n",
    "for i, lb in enumerate(test_generator.labels):\n",
    "    l = str(lb) + \"-\" + str(predicts[i])\n",
    "    if l in results:\n",
    "        results[l] = results[l] + 1\n",
    "    else:\n",
    "        results[l] = 1;\n",
    "\n",
    "print(sorted(results.items(), key=lambda x: x[0], reverse = False))"
   ]
  },
  {
   "cell_type": "code",
   "execution_count": null,
   "metadata": {},
   "outputs": [],
   "source": []
  }
 ],
 "metadata": {
  "kernelspec": {
   "display_name": "Python 3",
   "language": "python",
   "name": "python3"
  },
  "language_info": {
   "codemirror_mode": {
    "name": "ipython",
    "version": 3
   },
   "file_extension": ".py",
   "mimetype": "text/x-python",
   "name": "python",
   "nbconvert_exporter": "python",
   "pygments_lexer": "ipython3",
   "version": "3.5.4"
  }
 },
 "nbformat": 4,
 "nbformat_minor": 4
}
